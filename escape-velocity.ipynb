{
 "cells": [
  {
   "cell_type": "code",
   "execution_count": 64,
   "outputs": [],
   "source": [
    "import numpy as np"
   ],
   "metadata": {
    "collapsed": false,
    "pycharm": {
     "name": "#%%\n"
    }
   }
  },
  {
   "cell_type": "markdown",
   "metadata": {
    "collapsed": true,
    "pycharm": {
     "name": "#%% md\n"
    }
   },
   "source": [
    "# Escape velocity\n",
    "\n",
    "Escape speed at a distance $d$ from the center of a spherically symmetric primary body (such as a star or a planet)\n",
    "with mass $M$ is given by the formula\n",
    "\n",
    "$$ v_e = \\sqrt{\\frac{2GM}{d}} $$\n",
    "\n",
    "where $G$ is the universal gravitational constant ($G \\approx 6.67 \\times 10^{-11} m^3kg^{-1}s^{-2}$). The escape speed\n",
    "is independent of the mass of the escaping object.\n",
    "\n",
    "When given an initial speed $V$ greater than the escape speed $v_e$, the object will asymptomatically approach the\n",
    "hyperbolic excess speed $v_\\infty$, satisfying the equation: ${v_\\infty}^2 = V^2 - {v_e}^2$.\n",
    "\n",
    "In these equations atmospheric friction (air drag) is not taken into account."
   ]
  },
  {
   "cell_type": "code",
   "execution_count": 65,
   "outputs": [
    {
     "data": {
      "text/plain": "<IPython.core.display.Latex object>",
      "text/latex": "$M = 2.34\\times 10^{5}kg$"
     },
     "metadata": {},
     "output_type": "display_data"
    }
   ],
   "source": [
    "M = input('Enter the mass of the object in kg: ')\n",
    "from IPython.display import display, Latex\n",
    "\n",
    "if 'e' not in M:\n",
    "    display(Latex('$M = {}'.format(M) + 'kg$'))\n",
    "else:\n",
    "    display(Latex('$M = {}'.format(M).replace('e', r'\\times 10^{') + '}' + 'kg$'))"
   ],
   "metadata": {
    "collapsed": false,
    "pycharm": {
     "name": "#%%\n"
    }
   }
  },
  {
   "cell_type": "code",
   "execution_count": 66,
   "outputs": [
    {
     "data": {
      "text/plain": "<IPython.core.display.Latex object>",
      "text/latex": "$d = 1.23\\times 10^{4}m$"
     },
     "metadata": {},
     "output_type": "display_data"
    }
   ],
   "source": [
    "d = input('Enter the distance from the center of the primary body in meters: ')\n",
    "from IPython.display import display, Latex\n",
    "\n",
    "if 'e' not in d:\n",
    "    display(Latex('$d = {}'.format(d) + 'm$'))\n",
    "else:\n",
    "    display(Latex('$d = {}'.format(d).replace('e', r'\\times 10^{') + '}' + 'm$'))"
   ],
   "metadata": {
    "collapsed": false,
    "pycharm": {
     "name": "#%%\n"
    }
   }
  },
  {
   "cell_type": "code",
   "execution_count": 67,
   "outputs": [
    {
     "data": {
      "text/plain": "<IPython.core.display.Latex object>",
      "text/latex": "$v_e = 5.04\\times 10^{-05}m/s$"
     },
     "execution_count": 67,
     "metadata": {},
     "output_type": "execute_result"
    }
   ],
   "source": [
    "G = 6.67*10**-11\n",
    "M = float(M)\n",
    "d = float(d)\n",
    "velocity = np.sqrt(2*G*M/d)\n",
    "formatted_velocity = '{:.2e}'.format(velocity)\n",
    "\n",
    "from IPython.display import Latex\n",
    "Latex('$v_e = ' + '{}'.format(formatted_velocity).replace('e', r'\\times 10^{') + '}' + 'm/s$')"
   ],
   "metadata": {
    "collapsed": false,
    "pycharm": {
     "name": "#%%\n"
    }
   }
  }
 ],
 "metadata": {
  "kernelspec": {
   "display_name": "Python 3",
   "language": "python",
   "name": "python3"
  },
  "language_info": {
   "codemirror_mode": {
    "name": "ipython",
    "version": 2
   },
   "file_extension": ".py",
   "mimetype": "text/x-python",
   "name": "python",
   "nbconvert_exporter": "python",
   "pygments_lexer": "ipython2",
   "version": "2.7.6"
  }
 },
 "nbformat": 4,
 "nbformat_minor": 0
}