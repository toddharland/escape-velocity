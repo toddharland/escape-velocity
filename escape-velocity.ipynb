{
 "cells": [
  {
   "cell_type": "code",
   "execution_count": null,
   "outputs": [],
   "source": [
    "import numpy as np"
   ],
   "metadata": {
    "collapsed": false,
    "pycharm": {
     "name": "#%%\n"
    }
   }
  },
  {
   "cell_type": "markdown",
   "metadata": {
    "collapsed": true,
    "pycharm": {
     "name": "#%% md\n"
    }
   },
   "source": [
    "# Escape velocity\n",
    "\n",
    "Escape speed at a distance $d$ from the center of a spherically symmetric primary body (such as a star or a planet)\n",
    "with mass $M$ is given by the formula\n",
    "\n",
    "$$ v_e = \\sqrt{\\frac{2GM}{d}} $$\n",
    "\n",
    "where $G$ is the universal gravitational constant ($G \\approx 6.67 \\times 10^{-11} m^3kg^{-1}s^{-2}$). The escape speed\n",
    "is independent of the mass of the escaping object.\n",
    "\n",
    "In these equations atmospheric friction (air drag) is not taken into account.\n",
    "\n",
    "[Source: Escape velocity on Wikipedia](https://en.wikipedia.org/wiki/Escape_velocity)"
   ]
  },
  {
   "cell_type": "code",
   "execution_count": null,
   "outputs": [],
   "source": [
    "M = input('Enter the mass of the object in kg: ')\n",
    "from IPython.display import display, Latex\n",
    "display(Latex('$M = {:.2e}'.format(float(M.replace(',', ''))).replace('e', r'\\times 10^{') + '}' + 'kg$'))"
   ],
   "metadata": {
    "collapsed": false,
    "pycharm": {
     "name": "#%%\n"
    }
   }
  },
  {
   "cell_type": "code",
   "execution_count": null,
   "outputs": [],
   "source": [
    "d = input('Enter the distance from the center of the primary body in meters: ')\n",
    "from IPython.display import display, Latex\n",
    "display(Latex('$d = {:.2e}'.format(float(d.replace(',', ''))).replace('e', r'\\times 10^{') + '}' + 'm$'))"
   ],
   "metadata": {
    "collapsed": false,
    "pycharm": {
     "name": "#%%\n"
    }
   }
  },
  {
   "cell_type": "code",
   "execution_count": null,
   "outputs": [],
   "source": [
    "G = 6.67*10**-11\n",
    "M = float(M)\n",
    "d = float(d)\n",
    "velocity = np.sqrt(2*G*M/d)\n",
    "\n",
    "from IPython.display import Latex\n",
    "Latex('$v_e = ' + '{:.2e}'.format(velocity).replace('e', r'\\times 10^{') + '}' + 'm/s$')"
   ],
   "metadata": {
    "collapsed": false,
    "pycharm": {
     "name": "#%%\n"
    }
   }
  }
 ],
 "metadata": {
  "kernelspec": {
   "display_name": "Python 3",
   "language": "python",
   "name": "python3"
  },
  "language_info": {
   "codemirror_mode": {
    "name": "ipython",
    "version": 2
   },
   "file_extension": ".py",
   "mimetype": "text/x-python",
   "name": "python",
   "nbconvert_exporter": "python",
   "pygments_lexer": "ipython2",
   "version": "2.7.6"
  }
 },
 "nbformat": 4,
 "nbformat_minor": 0
}